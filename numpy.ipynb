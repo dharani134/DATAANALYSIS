{
  "nbformat": 4,
  "nbformat_minor": 0,
  "metadata": {
    "colab": {
      "provenance": []
    },
    "kernelspec": {
      "name": "python3",
      "display_name": "Python 3"
    },
    "language_info": {
      "name": "python"
    }
  },
  "cells": [
    {
      "cell_type": "code",
      "execution_count": null,
      "metadata": {
        "id": "wYoEZqWueOby",
        "colab": {
          "base_uri": "https://localhost:8080/"
        },
        "outputId": "46dc5d22-e3aa-4d6a-aef2-e4209effab82"
      },
      "outputs": [
        {
          "output_type": "stream",
          "name": "stdout",
          "text": [
            "[1 2 3 4 5]\n"
          ]
        }
      ],
      "source": [
        "import numpy as np\n",
        "# creating arrays\n",
        "arr = np.array ([1,2,3,4,5],dtype=int)\n",
        "print(arr)"
      ]
    },
    {
      "cell_type": "code",
      "source": [
        "zeros_arr = np.zeros((3,3), dtype=int)\n",
        "print(zeros_arr)\n",
        "ones_arr  = np.ones((2,2), dtype=int)\n",
        "print(ones_arr)"
      ],
      "metadata": {
        "colab": {
          "base_uri": "https://localhost:8080/"
        },
        "id": "MFY38LofMZmd",
        "outputId": "8d3e9991-a9d8-45ac-e738-bf14533a07a8"
      },
      "execution_count": null,
      "outputs": [
        {
          "output_type": "stream",
          "name": "stdout",
          "text": [
            "[[0 0 0]\n",
            " [0 0 0]\n",
            " [0 0 0]]\n",
            "[[1 1]\n",
            " [1 1]]\n"
          ]
        }
      ]
    },
    {
      "cell_type": "code",
      "source": [
        "#aranging array in ascending order\n",
        "arange_arr = np.arange(10)\n",
        "print(arange_arr)"
      ],
      "metadata": {
        "colab": {
          "base_uri": "https://localhost:8080/"
        },
        "id": "_bgox82NMhDu",
        "outputId": "abe58d93-287f-4a84-c043-bbaba0690dd5"
      },
      "execution_count": null,
      "outputs": [
        {
          "output_type": "stream",
          "name": "stdout",
          "text": [
            "[0 1 2 3 4 5 6 7 8 9]\n"
          ]
        }
      ]
    },
    {
      "cell_type": "code",
      "source": [
        "#array manipulation(reshaping array from one type of rows and columns to another no.of rows and columns)\n",
        "reshaped_arr=arr.reshape(5,1)\n",
        "print(reshaped_arr)"
      ],
      "metadata": {
        "colab": {
          "base_uri": "https://localhost:8080/"
        },
        "id": "jSiskZm-MnuA",
        "outputId": "9c3db46c-9ce2-47ad-ee1b-34539a0e8a68"
      },
      "execution_count": null,
      "outputs": [
        {
          "output_type": "stream",
          "name": "stdout",
          "text": [
            "[[1]\n",
            " [2]\n",
            " [3]\n",
            " [4]\n",
            " [5]]\n"
          ]
        }
      ]
    },
    {
      "cell_type": "code",
      "source": [
        "sliced_arr=arr[2:4]\n",
        "print(sliced_arr)"
      ],
      "metadata": {
        "colab": {
          "base_uri": "https://localhost:8080/"
        },
        "id": "X0aYV17AMrCH",
        "outputId": "2ff0a105-398a-4e22-e54a-7b0cc81a638f"
      },
      "execution_count": null,
      "outputs": [
        {
          "output_type": "stream",
          "name": "stdout",
          "text": [
            "[3 4]\n"
          ]
        }
      ]
    },
    {
      "cell_type": "code",
      "source": [
        "# to transpose data from one place to another\n",
        "a=np.array([1,2,3,4,5,6,7,8])\n",
        "b=a.T\n",
        "print(b)"
      ],
      "metadata": {
        "colab": {
          "base_uri": "https://localhost:8080/"
        },
        "id": "KRSlg3bYMvEi",
        "outputId": "8f5b6c1a-156c-4a33-b15d-1c61dc4c1480"
      },
      "execution_count": null,
      "outputs": [
        {
          "output_type": "stream",
          "name": "stdout",
          "text": [
            "[1 2 3 4 5 6 7 8]\n"
          ]
        }
      ]
    },
    {
      "cell_type": "code",
      "source": [
        "#to slip array\n",
        "b=np.split(a,4)\n",
        "print(b)"
      ],
      "metadata": {
        "colab": {
          "base_uri": "https://localhost:8080/"
        },
        "id": "miDKJvvFM2ds",
        "outputId": "e01372f3-5df2-4976-8c21-f15e5961e095"
      },
      "execution_count": null,
      "outputs": [
        {
          "output_type": "stream",
          "name": "stdout",
          "text": [
            "[array([1, 2]), array([3, 4]), array([5, 6]), array([7, 8])]\n"
          ]
        }
      ]
    },
    {
      "cell_type": "code",
      "source": [
        "# multiplication of matrix and using linearalgebra.eigen value function\n",
        "a=np.array([[1,2],[3,4]])\n",
        "b=np.array([[5,6],[7,8]])\n",
        "c=np.dot(a,b)\n",
        "print(c)\n",
        "d=np.linalg.eig(c)\n",
        "print(d)"
      ],
      "metadata": {
        "colab": {
          "base_uri": "https://localhost:8080/"
        },
        "id": "pudXjnS7M5nc",
        "outputId": "cf871c72-870d-4d48-9b1d-7f41954c1aa5"
      },
      "execution_count": null,
      "outputs": [
        {
          "output_type": "stream",
          "name": "stdout",
          "text": [
            "[[19 22]\n",
            " [43 50]]\n",
            "EigResult(eigenvalues=array([5.80198014e-02, 6.89419802e+01]), eigenvectors=array([[-0.75781077, -0.40313049],\n",
            "       [ 0.65247439, -0.91514251]]))\n"
          ]
        }
      ]
    },
    {
      "cell_type": "code",
      "source": [
        "import numpy as np\n",
        "data=np.loadtxt(\"/content/drive/MyDrive/dataset/soc.txt\",dtype=int)\n",
        "d=np.savetxt(\"/content/drive/MyDrive/dataset/soc.txt\",data)\n",
        "print(d)\n",
        "print(data)"
      ],
      "metadata": {
        "colab": {
          "base_uri": "https://localhost:8080/"
        },
        "id": "OAwZ0qTDM8g8",
        "outputId": "533f8081-e899-45a0-a224-6c97980704b4"
      },
      "execution_count": null,
      "outputs": [
        {
          "output_type": "stream",
          "name": "stdout",
          "text": [
            "None\n",
            "[[1 2 3]\n",
            " [4 5 6]\n",
            " [7 8 9]]\n"
          ]
        }
      ]
    },
    {
      "cell_type": "code",
      "source": [
        "from google.colab import drive\n",
        "drive.mount('/content/drive')"
      ],
      "metadata": {
        "colab": {
          "base_uri": "https://localhost:8080/"
        },
        "id": "TkRTHctdNDVt",
        "outputId": "f1c01420-72a2-44c1-99f2-aeddc327b27f"
      },
      "execution_count": null,
      "outputs": [
        {
          "output_type": "stream",
          "name": "stdout",
          "text": [
            "Mounted at /content/drive\n"
          ]
        }
      ]
    },
    {
      "cell_type": "code",
      "source": [
        "data=np.arange(0,100,5)\n",
        "d=np.savetxt(\"/content/data.txt\",data)\n",
        "print(d)\n",
        "print(data)"
      ],
      "metadata": {
        "colab": {
          "base_uri": "https://localhost:8080/"
        },
        "id": "xKnHG1faNT1M",
        "outputId": "f611a1b8-89ed-4a09-ff2a-3a5a22833603"
      },
      "execution_count": null,
      "outputs": [
        {
          "output_type": "stream",
          "name": "stdout",
          "text": [
            "None\n",
            "[ 0  5 10 15 20 25 30 35 40 45 50 55 60 65 70 75 80 85 90 95]\n"
          ]
        }
      ]
    },
    {
      "cell_type": "code",
      "source": [
        "import random as rand\n",
        "a=np.random.rand()\n",
        "print(a)\n"
      ],
      "metadata": {
        "colab": {
          "base_uri": "https://localhost:8080/"
        },
        "id": "vVmdL7_zN-XK",
        "outputId": "1dba4572-273b-4a32-e53e-d9e8a8fa010d"
      },
      "execution_count": null,
      "outputs": [
        {
          "output_type": "stream",
          "name": "stdout",
          "text": [
            "0.9381862343209172\n"
          ]
        }
      ]
    },
    {
      "cell_type": "code",
      "source": [
        "import random as rand\n",
        "a=np.random.rand()\n",
        "print(a)\n",
        "b=np.random.randint(1,10)\n",
        "print(b)"
      ],
      "metadata": {
        "colab": {
          "base_uri": "https://localhost:8080/"
        },
        "id": "DNA94uUWSHaa",
        "outputId": "a34f8503-c85b-4200-a560-d5b9df8898c6"
      },
      "execution_count": null,
      "outputs": [
        {
          "output_type": "stream",
          "name": "stdout",
          "text": [
            "0.49646685935817325\n",
            "9\n"
          ]
        }
      ]
    },
    {
      "cell_type": "code",
      "source": [
        "a=np.array([[2,4],[5,7]])\n",
        "print(type(a.ndim))\n",
        "print(a.shape)"
      ],
      "metadata": {
        "colab": {
          "base_uri": "https://localhost:8080/"
        },
        "id": "jDmHc-JsSqii",
        "outputId": "7a4cb19f-381a-41ce-af32-e11edcc2b95c"
      },
      "execution_count": null,
      "outputs": [
        {
          "output_type": "stream",
          "name": "stdout",
          "text": [
            "<class 'int'>\n",
            "(2, 2)\n"
          ]
        }
      ]
    },
    {
      "cell_type": "code",
      "source": [
        "a=np.linspace(0.8,2,5)\n",
        "print(a)"
      ],
      "metadata": {
        "colab": {
          "base_uri": "https://localhost:8080/"
        },
        "id": "eFh0iWY7Tb0m",
        "outputId": "cf485b25-7ae5-4020-d80a-33b8a0baf076"
      },
      "execution_count": null,
      "outputs": [
        {
          "output_type": "stream",
          "name": "stdout",
          "text": [
            "[0.8 1.1 1.4 1.7 2. ]\n"
          ]
        }
      ]
    },
    {
      "cell_type": "code",
      "source": [
        "arange_arr=np.arange(6).reshape(2,3)\n",
        "print(arange_arr)"
      ],
      "metadata": {
        "colab": {
          "base_uri": "https://localhost:8080/"
        },
        "id": "6tqo6jAqUzzy",
        "outputId": "d9a06f2e-c578-4a61-f2a0-64a00f7f1a5a"
      },
      "execution_count": null,
      "outputs": [
        {
          "output_type": "stream",
          "name": "stdout",
          "text": [
            "[[0 1 2]\n",
            " [3 4 5]]\n"
          ]
        }
      ]
    },
    {
      "cell_type": "code",
      "source": [
        "arange_arr=np.arange(24).reshape(2,3,4)\n",
        "print(arange_arr)"
      ],
      "metadata": {
        "colab": {
          "base_uri": "https://localhost:8080/"
        },
        "id": "ZON2ew23U9vS",
        "outputId": "c39c3c0d-8be7-4859-eb8b-0d0d8ccff502"
      },
      "execution_count": null,
      "outputs": [
        {
          "output_type": "stream",
          "name": "stdout",
          "text": [
            "[[[ 0  1  2  3]\n",
            "  [ 4  5  6  7]\n",
            "  [ 8  9 10 11]]\n",
            "\n",
            " [[12 13 14 15]\n",
            "  [16 17 18 19]\n",
            "  [20 21 22 23]]]\n"
          ]
        }
      ]
    },
    {
      "cell_type": "code",
      "source": [
        "a=np.array([[1,2],[3,4]])\n",
        "b=np.array([[1,2],[3,4]])\n",
        "print(a*b)\n",
        "print(a@b)\n",
        "c=np.dot(a,b)\n",
        "print(c)\n"
      ],
      "metadata": {
        "colab": {
          "base_uri": "https://localhost:8080/"
        },
        "id": "oqzJujGyVu_4",
        "outputId": "56b173c2-a015-466e-f89e-ef2f796233f3"
      },
      "execution_count": null,
      "outputs": [
        {
          "output_type": "stream",
          "name": "stdout",
          "text": [
            "[[ 1  4]\n",
            " [ 9 16]]\n",
            "[[ 7 10]\n",
            " [15 22]]\n",
            "[[ 7 10]\n",
            " [15 22]]\n"
          ]
        }
      ]
    },
    {
      "cell_type": "code",
      "source": [
        "from numpy import random\n",
        "a=np.ones((2,3),dtype=int)\n",
        "print(a)\n",
        "print(a.sum())\n",
        "print(a.sum(axis=1))\n",
        "print(a.sum(0))\n"
      ],
      "metadata": {
        "id": "EIPnSmzfW5m7",
        "colab": {
          "base_uri": "https://localhost:8080/"
        },
        "outputId": "974defae-ed22-4c89-962e-3ad985632226"
      },
      "execution_count": null,
      "outputs": [
        {
          "output_type": "stream",
          "name": "stdout",
          "text": [
            "[[1 1 1]\n",
            " [1 1 1]]\n",
            "6\n",
            "[3 3]\n",
            "[2 2 2]\n"
          ]
        }
      ]
    },
    {
      "cell_type": "code",
      "source": [
        "c=np.random.random((2,2))\n",
        "print(c)\n",
        "a=np.floor(np.random.random((2,12)))\n",
        "print(a)"
      ],
      "metadata": {
        "colab": {
          "base_uri": "https://localhost:8080/"
        },
        "id": "Ko6uBGu7aFrF",
        "outputId": "f5378318-044e-4f81-d7fe-814c0a888955"
      },
      "execution_count": null,
      "outputs": [
        {
          "output_type": "stream",
          "name": "stdout",
          "text": [
            "[[0.1721228  0.37034733]\n",
            " [0.00104417 0.52254944]]\n",
            "[[0. 0. 0. 0. 0. 0. 0. 0. 0. 0. 0. 0.]\n",
            " [0. 0. 0. 0. 0. 0. 0. 0. 0. 0. 0. 0.]]\n"
          ]
        }
      ]
    },
    {
      "cell_type": "code",
      "source": [
        "c=np.random.random((2,2))\n",
        "print(c)\n",
        "a=np.ceil(np.random.random((2,12)))\n",
        "print(a)"
      ],
      "metadata": {
        "colab": {
          "base_uri": "https://localhost:8080/"
        },
        "id": "ExEBfZ5wbZ-x",
        "outputId": "f7879343-1086-47bd-a262-bb9b58b50002"
      },
      "execution_count": null,
      "outputs": [
        {
          "output_type": "stream",
          "name": "stdout",
          "text": [
            "[[0.23426792 0.78983623]\n",
            " [0.8100081  0.55470502]]\n",
            "[[1. 1. 1. 1. 1. 1. 1. 1. 1. 1. 1. 1.]\n",
            " [1. 1. 1. 1. 1. 1. 1. 1. 1. 1. 1. 1.]]\n"
          ]
        }
      ]
    },
    {
      "cell_type": "code",
      "source": [
        "from numpy import random\n",
        "a=np.ones((2,3),dtype=int)\n",
        "print(a)\n",
        "print(a.cumsum())\n",
        "print(a.cumsum(axis=1))\n",
        "print(a.cumsum(0))\n"
      ],
      "metadata": {
        "colab": {
          "base_uri": "https://localhost:8080/"
        },
        "id": "eKeBUe88cTs_",
        "outputId": "f1359c02-c62d-4f4d-ed60-9e5cef91dc4b"
      },
      "execution_count": null,
      "outputs": [
        {
          "output_type": "stream",
          "name": "stdout",
          "text": [
            "[[1 1 1]\n",
            " [1 1 1]]\n",
            "[1 2 3 4 5 6]\n",
            "[[1 2 3]\n",
            " [1 2 3]]\n",
            "[[1 1 1]\n",
            " [2 2 2]]\n"
          ]
        }
      ]
    },
    {
      "cell_type": "code",
      "source": [
        "a=np.array([2,3,5,6])\n",
        "print(a.cumsum())"
      ],
      "metadata": {
        "colab": {
          "base_uri": "https://localhost:8080/"
        },
        "id": "nwXJ0aqRctu8",
        "outputId": "82a5f177-4b5a-4ab0-93c1-9dbf07fbd08c"
      },
      "execution_count": null,
      "outputs": [
        {
          "output_type": "stream",
          "name": "stdout",
          "text": [
            "[ 2  5 10 16]\n"
          ]
        }
      ]
    },
    {
      "cell_type": "code",
      "source": [
        "a=np.array([2,3,5,6])\n",
        "print(a.resize(3,2))"
      ],
      "metadata": {
        "colab": {
          "base_uri": "https://localhost:8080/"
        },
        "id": "hWj-ofGPdBYn",
        "outputId": "2c8cc460-6090-4e4c-9652-4232e392d5f0"
      },
      "execution_count": null,
      "outputs": [
        {
          "output_type": "stream",
          "name": "stdout",
          "text": [
            "None\n"
          ]
        }
      ]
    },
    {
      "cell_type": "code",
      "source": [
        "a=np.array([2,3,5,6])\n",
        "print(a.resize(2,2))"
      ],
      "metadata": {
        "colab": {
          "base_uri": "https://localhost:8080/"
        },
        "id": "Fc2RjWL1em4Z",
        "outputId": "d854602b-92de-4a70-bfae-fb9e89412540"
      },
      "execution_count": null,
      "outputs": [
        {
          "output_type": "stream",
          "name": "stdout",
          "text": [
            "None\n"
          ]
        }
      ]
    },
    {
      "cell_type": "code",
      "source": [
        "a=np.array([1,2,3,5,6])\n",
        "b=a.resize((3,2))\n",
        "print(a)"
      ],
      "metadata": {
        "colab": {
          "base_uri": "https://localhost:8080/"
        },
        "id": "HILcCTBge0jt",
        "outputId": "3e50b05d-bda8-4cf9-81fd-66b35d382af5"
      },
      "execution_count": null,
      "outputs": [
        {
          "output_type": "stream",
          "name": "stdout",
          "text": [
            "[[1 2]\n",
            " [3 5]\n",
            " [6 0]]\n"
          ]
        }
      ]
    },
    {
      "cell_type": "code",
      "source": [
        "a=np.array([1,2,3,5,6])\n",
        "b=a.resize((3,2))\n",
        "print(a)\n",
        "print(a.shape)"
      ],
      "metadata": {
        "colab": {
          "base_uri": "https://localhost:8080/"
        },
        "id": "dLEEBMJzfBL-",
        "outputId": "493b8093-a9cc-422a-98dc-ce298308f517"
      },
      "execution_count": null,
      "outputs": [
        {
          "output_type": "stream",
          "name": "stdout",
          "text": [
            "[[1 2]\n",
            " [3 5]\n",
            " [6 0]]\n",
            "(3, 2)\n"
          ]
        }
      ]
    },
    {
      "cell_type": "code",
      "source": [
        "a=np.array([2,3,5,6,4,5])\n",
        "print(a.resize(2,3))\n",
        "b=np.array([1,2,3,5,6])\n",
        "print(b.resize(2,3))\n",
        "print(np.vstack((a,b)))"
      ],
      "metadata": {
        "colab": {
          "base_uri": "https://localhost:8080/"
        },
        "id": "myV1vNCBfqJp",
        "outputId": "1789cfbd-c3a4-4b45-a9ff-726e777b8767"
      },
      "execution_count": null,
      "outputs": [
        {
          "output_type": "stream",
          "name": "stdout",
          "text": [
            "None\n",
            "None\n",
            "[[2 3 5]\n",
            " [6 4 5]\n",
            " [1 2 3]\n",
            " [5 6 0]]\n"
          ]
        }
      ]
    },
    {
      "cell_type": "code",
      "source": [
        "a=np.array([2,3,5,6,4,5])\n",
        "print(a.resize(2,3))\n",
        "b=np.array([1,2,3,5,6])\n",
        "print(b.resize(2,3))\n",
        "print(np.vstack((a,b)))\n",
        "print(np.hstack((a,b)))"
      ],
      "metadata": {
        "colab": {
          "base_uri": "https://localhost:8080/"
        },
        "id": "WLEHDpDTf3YO",
        "outputId": "e24ac22b-d91e-4bd5-be9b-a0df22189901"
      },
      "execution_count": null,
      "outputs": [
        {
          "output_type": "stream",
          "name": "stdout",
          "text": [
            "None\n",
            "None\n",
            "[[2 3 5]\n",
            " [6 4 5]\n",
            " [1 2 3]\n",
            " [5 6 0]]\n",
            "[[2 3 5 1 2 3]\n",
            " [6 4 5 5 6 0]]\n"
          ]
        }
      ]
    },
    {
      "cell_type": "code",
      "source": [
        "arange_arr=np.arange(30).reshape(2,3,5)\n",
        "print(arange_arr)\n",
        "print(np.dstack((arange_arr)))"
      ],
      "metadata": {
        "colab": {
          "base_uri": "https://localhost:8080/"
        },
        "id": "bM7C3UMVhol8",
        "outputId": "0ba1a567-fb08-4a1a-c945-be8d58163ec4"
      },
      "execution_count": null,
      "outputs": [
        {
          "output_type": "stream",
          "name": "stdout",
          "text": [
            "[[[ 0  1  2  3  4]\n",
            "  [ 5  6  7  8  9]\n",
            "  [10 11 12 13 14]]\n",
            "\n",
            " [[15 16 17 18 19]\n",
            "  [20 21 22 23 24]\n",
            "  [25 26 27 28 29]]]\n",
            "[[[ 0 15]\n",
            "  [ 1 16]\n",
            "  [ 2 17]\n",
            "  [ 3 18]\n",
            "  [ 4 19]]\n",
            "\n",
            " [[ 5 20]\n",
            "  [ 6 21]\n",
            "  [ 7 22]\n",
            "  [ 8 23]\n",
            "  [ 9 24]]\n",
            "\n",
            " [[10 25]\n",
            "  [11 26]\n",
            "  [12 27]\n",
            "  [13 28]\n",
            "  [14 29]]]\n"
          ]
        }
      ]
    },
    {
      "cell_type": "code",
      "source": [
        "a=2\n",
        "b=5\n",
        "print(a+b)\n",
        "print(a-b)\n",
        "print(a*b)\n",
        "print(a%b)\n",
        "print(a/b)\n"
      ],
      "metadata": {
        "id": "-iSremrDh1W7",
        "colab": {
          "base_uri": "https://localhost:8080/"
        },
        "outputId": "99a7e991-3b97-47f9-82ce-1decbde4336e"
      },
      "execution_count": null,
      "outputs": [
        {
          "output_type": "stream",
          "name": "stdout",
          "text": [
            "7\n",
            "-3\n",
            "10\n",
            "2\n",
            "0.4\n"
          ]
        }
      ]
    },
    {
      "cell_type": "code",
      "source": [
        "a=5\n",
        "b=3\n",
        "print(a==b)\n",
        "print(a<b)\n",
        "print(a>b)\n",
        "print(a<=b)\n",
        "print(a>=b)\n",
        "print(a!=b)\n",
        "\n"
      ],
      "metadata": {
        "colab": {
          "base_uri": "https://localhost:8080/"
        },
        "id": "CbNGRR43XrVb",
        "outputId": "67363d0f-b274-48ff-c7e7-893099eae43a"
      },
      "execution_count": null,
      "outputs": [
        {
          "output_type": "stream",
          "name": "stdout",
          "text": [
            "False\n",
            "False\n",
            "True\n",
            "False\n",
            "True\n",
            "True\n"
          ]
        }
      ]
    },
    {
      "cell_type": "code",
      "source": [
        "n=int(input())\n",
        "if(n>=0):\n",
        "  print(\"positive\")\n",
        "else:\n",
        "  print(\"negative\")\n"
      ],
      "metadata": {
        "colab": {
          "base_uri": "https://localhost:8080/"
        },
        "id": "2qv0vsncXwoJ",
        "outputId": "937e160a-28bc-4b7a-acb5-c86ebebf934e"
      },
      "execution_count": null,
      "outputs": [
        {
          "output_type": "stream",
          "name": "stdout",
          "text": [
            "2\n",
            "positive\n"
          ]
        }
      ]
    },
    {
      "cell_type": "code",
      "source": [
        "n=int(input())\n",
        "if(n>=0):\n",
        "  print(\"positive\")\n",
        "else:\n",
        "  print(\"negative\")\n"
      ],
      "metadata": {
        "colab": {
          "base_uri": "https://localhost:8080/"
        },
        "id": "4Ja4LoDEYi0r",
        "outputId": "461e9dd6-df61-486c-9f8c-d20bb670df9b"
      },
      "execution_count": null,
      "outputs": [
        {
          "output_type": "stream",
          "name": "stdout",
          "text": [
            "-3\n",
            "negative\n"
          ]
        }
      ]
    },
    {
      "cell_type": "code",
      "source": [
        "import numpy as np\n",
        "a1=np.eye(4)\n",
        "print(a1)"
      ],
      "metadata": {
        "colab": {
          "base_uri": "https://localhost:8080/"
        },
        "id": "6JjsnF6WYvFp",
        "outputId": "18dcd0f4-8835-4361-b3b1-3e87a0ae0a82"
      },
      "execution_count": null,
      "outputs": [
        {
          "output_type": "stream",
          "name": "stdout",
          "text": [
            "[[1. 0. 0. 0.]\n",
            " [0. 1. 0. 0.]\n",
            " [0. 0. 1. 0.]\n",
            " [0. 0. 0. 1.]]\n"
          ]
        }
      ]
    },
    {
      "cell_type": "code",
      "source": [
        "import numpy as np\n",
        "a1=np.full((2,2),3)\n",
        "print(a1)\n",
        "print(a1.itemsize)"
      ],
      "metadata": {
        "colab": {
          "base_uri": "https://localhost:8080/"
        },
        "id": "FNRsxjjcZpRz",
        "outputId": "6760d100-948d-4f4e-bf0c-57d996bbd173"
      },
      "execution_count": null,
      "outputs": [
        {
          "output_type": "stream",
          "name": "stdout",
          "text": [
            "[[3 3]\n",
            " [3 3]]\n",
            "8\n"
          ]
        }
      ]
    },
    {
      "cell_type": "code",
      "source": [
        "x=[1,2,3]\n",
        "a=np.asarray(x)\n",
        "print(a)\n",
        "print(type(a))"
      ],
      "metadata": {
        "colab": {
          "base_uri": "https://localhost:8080/"
        },
        "id": "lpVFHYjraN06",
        "outputId": "dc2c77e0-79ff-41da-e79c-8d676949b15a"
      },
      "execution_count": null,
      "outputs": [
        {
          "output_type": "stream",
          "name": "stdout",
          "text": [
            "[1 2 3]\n",
            "<class 'numpy.ndarray'>\n"
          ]
        }
      ]
    },
    {
      "cell_type": "code",
      "source": [
        "x=np.asarray([1,4,0],float)\n",
        "y=np.asarray([2,2,1],float)\n",
        "print(np.inner(x,y))\n",
        "print(np.outer(x,y))\n",
        "print(np.cross(x,y))\n",
        "\n"
      ],
      "metadata": {
        "colab": {
          "base_uri": "https://localhost:8080/"
        },
        "id": "R0EegO7NacOM",
        "outputId": "2e72f973-47a6-4109-f11c-1fc665464281"
      },
      "execution_count": null,
      "outputs": [
        {
          "output_type": "stream",
          "name": "stdout",
          "text": [
            "10.0\n",
            "[[2. 2. 1.]\n",
            " [8. 8. 4.]\n",
            " [0. 0. 0.]]\n",
            "[ 4. -1. -6.]\n"
          ]
        }
      ]
    },
    {
      "cell_type": "code",
      "source": [
        "a=np.array([1.2,2.3,3.4,4.5,5.6,6.7,7.8])\n",
        "np.rint(a)"
      ],
      "metadata": {
        "colab": {
          "base_uri": "https://localhost:8080/"
        },
        "id": "z4TmnbHibIoP",
        "outputId": "ad4ff2a0-4d75-4d31-84a2-2fe3a213ec70"
      },
      "execution_count": null,
      "outputs": [
        {
          "output_type": "execute_result",
          "data": {
            "text/plain": [
              "array([1., 2., 3., 4., 6., 7., 8.])"
            ]
          },
          "metadata": {},
          "execution_count": 18
        }
      ]
    },
    {
      "cell_type": "code",
      "source": [
        "a=np.array([20,25,30,50,45])\n",
        "b=np.array([10,2,3,4,5])\n",
        "np.true_divide(a,b)\n"
      ],
      "metadata": {
        "colab": {
          "base_uri": "https://localhost:8080/"
        },
        "id": "jUwFSVn5dTkv",
        "outputId": "924bbc5f-6880-4d65-84ee-1caa2fd02dd2"
      },
      "execution_count": null,
      "outputs": [
        {
          "output_type": "execute_result",
          "data": {
            "text/plain": [
              "array([ 2. , 12.5, 10. , 12.5,  9. ])"
            ]
          },
          "metadata": {},
          "execution_count": 22
        }
      ]
    },
    {
      "cell_type": "code",
      "source": [
        "a=np.array([10,20,10,20,25,30,50,45])\n",
        "np.unique(a)"
      ],
      "metadata": {
        "colab": {
          "base_uri": "https://localhost:8080/"
        },
        "id": "eX1xnJDYeOeM",
        "outputId": "2fa0cb17-facb-4e08-8e7d-2e74554b958e"
      },
      "execution_count": null,
      "outputs": [
        {
          "output_type": "execute_result",
          "data": {
            "text/plain": [
              "array([10, 20, 25, 30, 45, 50])"
            ]
          },
          "metadata": {},
          "execution_count": 24
        }
      ]
    },
    {
      "cell_type": "code",
      "source": [
        "a=np.array([[1,2],[3,4]])\n",
        "b=np.array([[1,2],[3,4]])\n",
        "np.union1d(a,b)\n"
      ],
      "metadata": {
        "colab": {
          "base_uri": "https://localhost:8080/"
        },
        "id": "64TNVdkYet0H",
        "outputId": "e3365c4d-1f76-430f-c97f-d6b7575cf0b1"
      },
      "execution_count": null,
      "outputs": [
        {
          "output_type": "execute_result",
          "data": {
            "text/plain": [
              "array([1, 2, 3, 4])"
            ]
          },
          "metadata": {},
          "execution_count": 28
        }
      ]
    },
    {
      "cell_type": "code",
      "source": [
        "a=np.array([[1,2],[3,4]])\n",
        "b=np.array([[5,6],[3,8]])\n",
        "np.intersect1d(a,b)\n"
      ],
      "metadata": {
        "colab": {
          "base_uri": "https://localhost:8080/"
        },
        "id": "jOb6ayWOfInh",
        "outputId": "4a78bd4e-f7b4-4c1c-b371-e74fc6ab486e"
      },
      "execution_count": null,
      "outputs": [
        {
          "output_type": "execute_result",
          "data": {
            "text/plain": [
              "array([3])"
            ]
          },
          "metadata": {},
          "execution_count": 31
        }
      ]
    },
    {
      "cell_type": "code",
      "source": [
        "a=np.array([[1,7],[3,4]])\n",
        "b=np.array([[5,7],[2,4]])\n",
        "np.setdiff1d(a,b)\n"
      ],
      "metadata": {
        "colab": {
          "base_uri": "https://localhost:8080/"
        },
        "id": "_Fa0kn37f3vQ",
        "outputId": "99e4495a-5b1f-461b-cb2a-88fde4685009"
      },
      "execution_count": null,
      "outputs": [
        {
          "output_type": "execute_result",
          "data": {
            "text/plain": [
              "array([1, 3])"
            ]
          },
          "metadata": {},
          "execution_count": 40
        }
      ]
    },
    {
      "cell_type": "code",
      "source": [
        "a=8\n",
        "b=6\n",
        "c=np.hypot(a,b)\n",
        "print(c)"
      ],
      "metadata": {
        "colab": {
          "base_uri": "https://localhost:8080/"
        },
        "id": "v-kK4MwHgJCz",
        "outputId": "449abc69-1db3-426f-cc4c-3714842372d8"
      },
      "execution_count": null,
      "outputs": [
        {
          "output_type": "stream",
          "name": "stdout",
          "text": [
            "10.0\n"
          ]
        }
      ]
    },
    {
      "cell_type": "code",
      "source": [
        "x=np.sin(0)\n",
        "print(x)"
      ],
      "metadata": {
        "colab": {
          "base_uri": "https://localhost:8080/"
        },
        "id": "GGyUmRXkhMfC",
        "outputId": "d6837aab-efbc-4b50-fa01-a8f05c0d0dcd"
      },
      "execution_count": null,
      "outputs": [
        {
          "output_type": "stream",
          "name": "stdout",
          "text": [
            "0.0\n"
          ]
        }
      ]
    },
    {
      "cell_type": "code",
      "source": [
        "a=np.array([10,21,30,40,50])\n",
        "b=np.array([20,21,2,20,25])\n",
        "c=np.divmod(a,b)\n",
        "print(c)"
      ],
      "metadata": {
        "colab": {
          "base_uri": "https://localhost:8080/"
        },
        "id": "dtogw6-NhfhK",
        "outputId": "b240a0db-ad80-4467-9eef-2b1006d321c3"
      },
      "execution_count": null,
      "outputs": [
        {
          "output_type": "stream",
          "name": "stdout",
          "text": [
            "(array([ 0,  1, 15,  2,  2]), array([10,  0,  0,  0,  0]))\n"
          ]
        }
      ]
    },
    {
      "cell_type": "code",
      "source": [
        "a=np.array([10,21,30,40,50])\n",
        "b=np.array([20,21,2,20,25])\n",
        "c=np.mod(a,b)\n",
        "print(c)"
      ],
      "metadata": {
        "colab": {
          "base_uri": "https://localhost:8080/"
        },
        "id": "M9USngG2iCcP",
        "outputId": "6d89c0dd-3fb2-43f7-fddd-2cb6aae5ff93"
      },
      "execution_count": null,
      "outputs": [
        {
          "output_type": "stream",
          "name": "stdout",
          "text": [
            "[10  0  0  0  0]\n"
          ]
        }
      ]
    },
    {
      "cell_type": "code",
      "source": [
        "a=np.array([10,21,30,40,50])\n",
        "b=np.array([20,21,2,20,25])\n",
        "c=np.divide(a,b)\n",
        "print(c)"
      ],
      "metadata": {
        "colab": {
          "base_uri": "https://localhost:8080/"
        },
        "id": "x7-C_SViii6A",
        "outputId": "f21fb99a-38f0-4938-c450-b9b663965df7"
      },
      "execution_count": null,
      "outputs": [
        {
          "output_type": "stream",
          "name": "stdout",
          "text": [
            "[ 0.5  1.  15.   2.   2. ]\n"
          ]
        }
      ]
    },
    {
      "cell_type": "code",
      "source": [
        "a=np.array([10,21,30,40,50])\n",
        "b=np.array([20,21,2,20,25])\n",
        "c=np.multiply(a,b)\n",
        "print(c)"
      ],
      "metadata": {
        "colab": {
          "base_uri": "https://localhost:8080/"
        },
        "id": "G3ma-cTcims_",
        "outputId": "3e506f9c-d8d3-4c6f-bcfe-f68eb6e6d3d8"
      },
      "execution_count": null,
      "outputs": [
        {
          "output_type": "stream",
          "name": "stdout",
          "text": [
            "[ 200  441   60  800 1250]\n"
          ]
        }
      ]
    },
    {
      "cell_type": "code",
      "source": [
        "from numpy import random\n",
        "x=random.normal(size=(2,3))\n",
        "print(x)\n"
      ],
      "metadata": {
        "colab": {
          "base_uri": "https://localhost:8080/"
        },
        "id": "81lOC-m_jIOn",
        "outputId": "3d950fb3-d989-48ad-c285-69bc9f88c291"
      },
      "execution_count": null,
      "outputs": [
        {
          "output_type": "stream",
          "name": "stdout",
          "text": [
            "[[-1.06351463 -0.68891163  0.19952141]\n",
            " [ 0.11891386 -0.48628013  0.62217089]]\n"
          ]
        }
      ]
    },
    {
      "cell_type": "code",
      "source": [
        "x=random.normal(loc=1,scale=2,size=(2,3))\n",
        "print(x)"
      ],
      "metadata": {
        "colab": {
          "base_uri": "https://localhost:8080/"
        },
        "id": "4YDlASoXjiug",
        "outputId": "b07e1365-8eaa-42ce-88d9-92614745e1c4"
      },
      "execution_count": null,
      "outputs": [
        {
          "output_type": "stream",
          "name": "stdout",
          "text": [
            "[[-0.21556461  0.73711139  3.80047545]\n",
            " [ 1.82586464  1.68890782  3.55346549]]\n"
          ]
        }
      ]
    },
    {
      "cell_type": "code",
      "source": [
        " x=random.binomial(n=12,p=0.5,size=(10))\n",
        " print(x)"
      ],
      "metadata": {
        "colab": {
          "base_uri": "https://localhost:8080/"
        },
        "id": "z7SzbO2Aj8_C",
        "outputId": "cbcdc420-0249-49f5-d679-64b011811124"
      },
      "execution_count": null,
      "outputs": [
        {
          "output_type": "stream",
          "name": "stdout",
          "text": [
            "[8 5 4 9 5 9 6 5 5 6]\n"
          ]
        }
      ]
    },
    {
      "cell_type": "code",
      "source": [
        " x=random.poisson(lam=2,size=(10))\n",
        " print(x)"
      ],
      "metadata": {
        "colab": {
          "base_uri": "https://localhost:8080/"
        },
        "id": "q4p4nSg3l0pU",
        "outputId": "2bfee475-b071-4d88-8ab0-caeb7e155a0e"
      },
      "execution_count": null,
      "outputs": [
        {
          "output_type": "stream",
          "name": "stdout",
          "text": [
            "[2 2 0 1 2 3 1 1 2 2]\n"
          ]
        }
      ]
    },
    {
      "cell_type": "code",
      "source": [
        " x=random.choice([2,3,4,5,6])\n",
        " print(x)"
      ],
      "metadata": {
        "colab": {
          "base_uri": "https://localhost:8080/"
        },
        "id": "LRawM-bVmLMi",
        "outputId": "79a1db01-1ceb-4cac-cb66-86c5f8f4aef4"
      },
      "execution_count": null,
      "outputs": [
        {
          "output_type": "stream",
          "name": "stdout",
          "text": [
            "3\n"
          ]
        }
      ]
    },
    {
      "cell_type": "code",
      "source": [
        "x=random.choice([3,5],p=[0.2,0.8],size=(3,5))\n",
        "print(x)"
      ],
      "metadata": {
        "colab": {
          "base_uri": "https://localhost:8080/"
        },
        "id": "2VuCVrJwmh8X",
        "outputId": "8d8bcaf8-8263-40ad-9541-2d68191540a0"
      },
      "execution_count": null,
      "outputs": [
        {
          "output_type": "stream",
          "name": "stdout",
          "text": [
            "[[5 5 5 5 5]\n",
            " [5 3 3 5 5]\n",
            " [3 5 3 5 3]]\n"
          ]
        }
      ]
    },
    {
      "cell_type": "code",
      "source": [
        "x=random.choice([3,5],p=[0.5,0.5],size=(3,5))\n",
        "print(x)"
      ],
      "metadata": {
        "colab": {
          "base_uri": "https://localhost:8080/"
        },
        "id": "Cpnjcs3SmzVk",
        "outputId": "293bbd67-ccdc-4846-86d1-bc4c98e04dd7"
      },
      "execution_count": null,
      "outputs": [
        {
          "output_type": "stream",
          "name": "stdout",
          "text": [
            "[[3 5 5 5 3]\n",
            " [3 5 3 3 3]\n",
            " [5 3 5 5 3]]\n"
          ]
        }
      ]
    },
    {
      "cell_type": "code",
      "source": [
        "import numpy as np\n",
        "import matplotlib.pyplot as plt\n",
        "runs=np.array([100,50,91,78,89,25,34,19,9,10])\n",
        "w=np.array([1,0,2,0,3,7,8,9,7,5])\n",
        "plt.scatter(runs,w,color='orange')  #scatter gragh\n",
        "plt.title('indvsaus_score')\n",
        "plt.show()"
      ],
      "metadata": {
        "id": "LVgh_3z6oHZJ",
        "colab": {
          "base_uri": "https://localhost:8080/",
          "height": 452
        },
        "outputId": "7ccecb4d-5954-45ce-9c82-60e8f5d27bf7"
      },
      "execution_count": null,
      "outputs": [
        {
          "output_type": "display_data",
          "data": {
            "text/plain": [
              "<Figure size 640x480 with 1 Axes>"
            ],
            "image/png": "[encoded data removed]"
          },
          "metadata": {}
        }
      ]
    },
    {
      "cell_type": "code",
      "source": [
        "import numpy as np\n",
        "import matplotlib.pyplot as plt\n",
        "runs=np.array([100,50,91,78,89,25,34,19,9,10])\n",
        "w=np.array([1,0,2,0,3,7,8,9,7,5])\n",
        "plt.scatter(w,runs,color='red')  #scatter gragh\n",
        "plt.title('indvsaus_score')\n",
        "plt.show()"
      ],
      "metadata": {
        "colab": {
          "base_uri": "https://localhost:8080/",
          "height": 452
        },
        "id": "RZCGxGWf1RJi",
        "outputId": "debe6eef-138f-479f-c15a-1de53827012f"
      },
      "execution_count": null,
      "outputs": [
        {
          "output_type": "display_data",
          "data": {
            "text/plain": [
              "<Figure size 640x480 with 1 Axes>"
            ],
            "image/png": "[encoded data removed]"
          },
          "metadata": {}
        }
      ]
    },
    {
      "cell_type": "code",
      "source": [
        "import numpy as np\n",
        "import matplotlib.pyplot as plt\n",
        "runs=np.array([100,50,91,78,89,25,34,19,9,10])\n",
        "w=np.array([1,0,2,0,3,7,8,9,7,5])\n",
        "plt.plot(w,runs,color='red')  #scatter gragh\n",
        "plt.title('indvsaus_score')\n",
        "plt.show()"
      ],
      "metadata": {
        "colab": {
          "base_uri": "https://localhost:8080/",
          "height": 452
        },
        "id": "fqUra25M31sJ",
        "outputId": "4759c031-ca02-4ef9-e86e-400fb2779022"
      },
      "execution_count": null,
      "outputs": [
        {
          "output_type": "display_data",
          "data": {
            "text/plain": [
              "<Figure size 640x480 with 1 Axes>"
            ],
            "image/png": "[encoded data removed]"
          },
          "metadata": {}
        }
      ]
    },
    {
      "cell_type": "code",
      "source": [
        "tigar=np.linspace(-2*np.pi,2*np.pi,100)\n",
        "print(tigar)\n",
        "plt.plot(tigar,np.sin(tigar),color='black')  #sin\n",
        "#plt.plot(x,y,color,lables..)\n",
        "plt.title(\"sin(x)\")\n",
        "#Display plot\n",
        "plt.show()"
      ],
      "metadata": {
        "colab": {
          "base_uri": "https://localhost:8080/",
          "height": 747
        },
        "id": "KwuVoRc-15v5",
        "outputId": "d3f5959f-7c89-4cd6-9439-5e837ca06293"
      },
      "execution_count": null,
      "outputs": [
        {
          "output_type": "stream",
          "name": "stdout",
          "text": [
            "[-6.28318531 -6.15625227 -6.02931923 -5.9023862  -5.77545316 -5.64852012\n",
            " -5.52158709 -5.39465405 -5.26772102 -5.14078798 -5.01385494 -4.88692191\n",
            " -4.75998887 -4.63305583 -4.5061228  -4.37918976 -4.25225672 -4.12532369\n",
            " -3.99839065 -3.87145761 -3.74452458 -3.61759154 -3.4906585  -3.36372547\n",
            " -3.23679243 -3.10985939 -2.98292636 -2.85599332 -2.72906028 -2.60212725\n",
            " -2.47519421 -2.34826118 -2.22132814 -2.0943951  -1.96746207 -1.84052903\n",
            " -1.71359599 -1.58666296 -1.45972992 -1.33279688 -1.20586385 -1.07893081\n",
            " -0.95199777 -0.82506474 -0.6981317  -0.57119866 -0.44426563 -0.31733259\n",
            " -0.19039955 -0.06346652  0.06346652  0.19039955  0.31733259  0.44426563\n",
            "  0.57119866  0.6981317   0.82506474  0.95199777  1.07893081  1.20586385\n",
            "  1.33279688  1.45972992  1.58666296  1.71359599  1.84052903  1.96746207\n",
            "  2.0943951   2.22132814  2.34826118  2.47519421  2.60212725  2.72906028\n",
            "  2.85599332  2.98292636  3.10985939  3.23679243  3.36372547  3.4906585\n",
            "  3.61759154  3.74452458  3.87145761  3.99839065  4.12532369  4.25225672\n",
            "  4.37918976  4.5061228   4.63305583  4.75998887  4.88692191  5.01385494\n",
            "  5.14078798  5.26772102  5.39465405  5.52158709  5.64852012  5.77545316\n",
            "  5.9023862   6.02931923  6.15625227  6.28318531]\n"
          ]
        },
        {
          "output_type": "display_data",
          "data": {
            "text/plain": [
              "<Figure size 640x480 with 1 Axes>"
            ],
            "image/png": "[encoded data removed]"
          },
          "metadata": {}
        }
      ]
    },
    {
      "cell_type": "code",
      "source": [
        "#plotting all in one graph\n",
        "# use : plt.legend(loc='best')\n",
        "#plt.plot(x,y,color,label)\n",
        "import numpy as np\n",
        "import matplotlib.pyplot as plt\n",
        "#creating x\n",
        "overs = np.arange(5,50,5)\n",
        "overs_a = np.arange(5,30,5)\n",
        "#creating y\n",
        "runs_i = np.array([25,51,84,131,160,189,220,250,267])\n",
        "runs_a = np.array([15,41,94,110,151])\n",
        "wickets = np.array([12,32,96])\n",
        "#plotting\n",
        "plt.plot(overs,runs_i,color='blue',label='India')\n",
        "plt.plot(overs_a,runs_a,color='yellow',label = 'Aus')\n",
        "#combining two graphs\n",
        "plt.legend(loc='best')\n",
        "#displaying the final graph\n",
        "plt.show()"
      ],
      "metadata": {
        "colab": {
          "base_uri": "https://localhost:8080/",
          "height": 430
        },
        "id": "f-MASQUH2zXS",
        "outputId": "78f3fdab-3103-49fa-b891-1867f311eae8"
      },
      "execution_count": null,
      "outputs": [
        {
          "output_type": "display_data",
          "data": {
            "text/plain": [
              "<Figure size 640x480 with 1 Axes>"
            ],
            "image/png": "[encoded data removed]"
          },
          "metadata": {}
        }
      ]
    },
    {
      "cell_type": "code",
      "source": [
        "import numpy as np\n",
        "import matplotlib.pyplot as plt\n",
        "runs=np.array([100,50,91,78,89,25,34,19,9,10])\n",
        "w=np.array([1,0,2,0,3,7,8,9,7,5])\n",
        "plt.scatter(w,runs,color='red')  #scatter gragh\n",
        "plt.legend('indvsaus_score')    #legend\n",
        "plt.show()"
      ],
      "metadata": {
        "colab": {
          "base_uri": "https://localhost:8080/",
          "height": 430
        },
        "id": "5vr8Cpas4jqx",
        "outputId": "b896135b-5487-42c2-c672-f40ff3fc46f4"
      },
      "execution_count": null,
      "outputs": [
        {
          "output_type": "display_data",
          "data": {
            "text/plain": [
              "<Figure size 640x480 with 1 Axes>"
            ],
            "image/png": "[encoded data removed]"
          },
          "metadata": {}
        }
      ]
    },
    {
      "cell_type": "code",
      "source": [
        "import numpy as np\n",
        "import matplotlib.pyplot as plt\n",
        "runs=np.array([100,50,91,78,89,25,34,19,9,10])\n",
        "w=np.array([1,0,2,0,3,7,8,9,7,5])\n",
        "plt.scatter(w,runs,color='red',label=\"India\")  #scatter gragh\n",
        "plt.legend('indvsaus_score')    #legend\n",
        "plt.legend(loc='best')\n",
        "plt.show()"
      ],
      "metadata": {
        "colab": {
          "base_uri": "https://localhost:8080/",
          "height": 430
        },
        "id": "AxsGwqjj5FGj",
        "outputId": "af37c79e-dd53-432a-948f-9a24640bb258"
      },
      "execution_count": null,
      "outputs": [
        {
          "output_type": "display_data",
          "data": {
            "text/plain": [
              "<Figure size 640x480 with 1 Axes>"
            ],
            "image/png": "[encoded data removed]"
          },
          "metadata": {}
        }
      ]
    },
    {
      "cell_type": "code",
      "source": [
        "import matplotlib.pyplot as plt\n",
        "a = [230,560,780,127,128]\n",
        "b = [200,160,270,127,400]\n",
        "years = [1,2,3,4]\n",
        "profit_a = [(a[i]-a[i-1]) for i in range(1,len(a))]\n",
        "profit_b = [(b[i]-b[i-1]) for i in range(1,len(b))]\n",
        "plt.subplot(2,1,2)  #gives two subplots for prifit1,profit2 if not in one plot only two graghs are defined\n",
        "plt.plot(years,profit_a,color='hotpink',linewidth = '3',label =\n",
        "'CompanyA',marker='>',ms='15',mec='k')\n",
        "plt.subplot(2,1,1)\n",
        "plt.plot(years,profit_b,color='black',linestyle='dotted',label =\n",
        "'CompanyB',marker = 'H')\n",
        "plt.show()"
      ],
      "metadata": {
        "id": "vRKQTCNG5yKk",
        "colab": {
          "base_uri": "https://localhost:8080/",
          "height": 430
        },
        "outputId": "b0207f4e-43c4-41d6-eebf-ef429861a4b4"
      },
      "execution_count": null,
      "outputs": [
        {
          "output_type": "display_data",
          "data": {
            "text/plain": [
              "<Figure size 640x480 with 2 Axes>"
            ],
            "image/png": "[encoded data removed]"
          },
          "metadata": {}
        }
      ]
    },
    {
      "cell_type": "code",
      "source": [
        "a = np.array([25,60,5,10])\n",
        "labe = [\"AIML\",\"Python\",\"Pandas\",\"Numpy\"]\n",
        "plt.pie(a,labels = labe)\n",
        "plt.show()"
      ],
      "metadata": {
        "id": "3q90To068DVt",
        "colab": {
          "base_uri": "https://localhost:8080/",
          "height": 406
        },
        "outputId": "6bde137a-974d-4a83-8b5f-4264d1702790"
      },
      "execution_count": null,
      "outputs": [
        {
          "output_type": "display_data",
          "data": {
            "text/plain": [
              "<Figure size 640x480 with 1 Axes>"
            ],
            "image/png": "[encoded data removed]"
          },
          "metadata": {}
        }
      ]
    },
    {
      "cell_type": "code",
      "source": [
        "a = np.array([25,60,5,10])\n",
        "labe = [\"AIML\",\"Python\",\"Pandas\",\"Numpy\"]\n",
        "color = ['green','red','coral','yellow']\n",
        "plt.pie(a,labels = labe,colors= color)\n",
        "\n"
      ],
      "metadata": {
        "colab": {
          "base_uri": "https://localhost:8080/",
          "height": 545
        },
        "id": "h6glqgoC9x7k",
        "outputId": "a1855e60-dad3-4f27-9e8a-5b01730af282"
      },
      "execution_count": null,
      "outputs": [
        {
          "output_type": "execute_result",
          "data": {
            "text/plain": [
              "([<matplotlib.patches.Wedge at 0x7abd32a46200>,\n",
              "  <matplotlib.patches.Wedge at 0x7abd32a46140>,\n",
              "  <matplotlib.patches.Wedge at 0x7abd32a46ad0>,\n",
              "  <matplotlib.patches.Wedge at 0x7abd32a46f50>],\n",
              " [Text(0.7778174593052024, 0.7778174593052023, 'AIML'),\n",
              "  Text(-1.0461621424642782, -0.3399187721714579, 'Python'),\n",
              "  Text(0.7778175776450482, -0.7778173409653384, 'Pandas'),\n",
              "  Text(1.04616222202798, -0.3399185272995272, 'Numpy')])"
            ]
          },
          "metadata": {},
          "execution_count": 36
        },
        {
          "output_type": "display_data",
          "data": {
            "text/plain": [
              "<Figure size 640x480 with 1 Axes>"
            ],
            "image/png": "[encoded data removed]"
          },
          "metadata": {}
        }
      ]
    },
    {
      "cell_type": "code",
      "source": [
        "a = np.array([25,60,5,10])\n",
        "labe = [\"AIML\",\"Python\",\"Pandas\",\"Numpy\"]\n",
        "explo = [0.2,0,0,0]\n",
        "plt.pie(a,labels = labe,explode = explo,startangle = 180)\n",
        "plt.show()"
      ],
      "metadata": {
        "colab": {
          "base_uri": "https://localhost:8080/",
          "height": 406
        },
        "id": "KZjDQT_U_JXx",
        "outputId": "e4de27a7-e6af-4463-a2fd-b3792d04ee05"
      },
      "execution_count": null,
      "outputs": [
        {
          "output_type": "display_data",
          "data": {
            "text/plain": [
              "<Figure size 640x480 with 1 Axes>"
            ],
            "image/png": "[encoded data removed]"
          },
          "metadata": {}
        }
      ]
    },
    {
      "cell_type": "code",
      "source": [
        "a = np.array([25,60,5,10])\n",
        "labe = [\"AIML\",\"Python\",\"Pandas\",\"Numpy\"]\n",
        "explo = [0.3,0,0,0]\n",
        "plt.pie(a,labels = labe,explode = explo,shadow=True)\n",
        "plt.legend()\n",
        "plt.show()"
      ],
      "metadata": {
        "colab": {
          "base_uri": "https://localhost:8080/",
          "height": 406
        },
        "id": "ZhfNpAAC_SpJ",
        "outputId": "06b366b3-794a-43d9-a332-f32a66073b2e"
      },
      "execution_count": null,
      "outputs": [
        {
          "output_type": "display_data",
          "data": {
            "text/plain": [
              "<Figure size 640x480 with 1 Axes>"
            ],
            "image/png": "[encoded data removed]"
          },
          "metadata": {}
        }
      ]
    },
    {
      "cell_type": "code",
      "source": [
        "a = np.array([25,60,5,10])\n",
        "labe = [\"AIML\",\"Python\",\"Pandas\",\"Numpy\"]\n",
        "color = ['pink','black','coral','yellow']\n",
        "plt.pie(a,labels = labe,colors= color)\n",
        "plt.legend()\n",
        "plt.show()"
      ],
      "metadata": {
        "colab": {
          "base_uri": "https://localhost:8080/",
          "height": 406
        },
        "id": "DvqixX4c_s9j",
        "outputId": "2903c2c0-4f90-4b48-a42e-e3cfe3851799"
      },
      "execution_count": null,
      "outputs": [
        {
          "output_type": "display_data",
          "data": {
            "text/plain": [
              "<Figure size 640x480 with 1 Axes>"
            ],
            "image/png": "[encoded data removed]"
          },
          "metadata": {}
        }
      ]
    },
    {
      "cell_type": "code",
      "source": [],
      "metadata": {
        "id": "EdJb94al_3F8"
      },
      "execution_count": null,
      "outputs": []
    }
  ]
}