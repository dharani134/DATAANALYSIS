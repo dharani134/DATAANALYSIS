{
  "nbformat": 4,
  "nbformat_minor": 0,
  "metadata": {
    "colab": {
      "provenance": []
    },
    "kernelspec": {
      "name": "python3",
      "display_name": "Python 3"
    },
    "language_info": {
      "name": "python"
    }
  },
  "cells": [
    {
      "cell_type": "code",
      "execution_count": null,
      "metadata": {
        "colab": {
          "base_uri": "https://localhost:8080/"
        },
        "id": "EIIBOaUZL7Bf",
        "outputId": "703b95d4-6ca7-47f4-a693-9565c9acc802"
      },
      "outputs": [
        {
          "output_type": "stream",
          "name": "stdout",
          "text": [
            "Volume of data: 1000000\n"
          ]
        }
      ],
      "source": [
        "import numpy as np\n",
        "#Generate a large volume of random data (e.g,1 million data points)\n",
        "volume_data=np.random.rand(1000000)\n",
        "print(\"Volume of data:\",len(volume_data))"
      ]
    },
    {
      "cell_type": "code",
      "source": [
        "import time\n",
        "# Simulate steaming data every second for seconds\n",
        "for i in range(10):\n",
        "  velocity_data=np.random.rand() #Generate random data\n",
        "  print(\"Velocity data point:\",velocity_data)\n",
        "  time.sleep(2) # Wait for 1 second to simulates real-time data strems"
      ],
      "metadata": {
        "colab": {
          "base_uri": "https://localhost:8080/"
        },
        "id": "1ENNg2CLMSeY",
        "outputId": "aecc22ce-244c-49b2-d9ae-a02ce3067787"
      },
      "execution_count": null,
      "outputs": [
        {
          "output_type": "stream",
          "name": "stdout",
          "text": [
            "Velocity data point: 0.4666249392010564\n",
            "Velocity data point: 0.5605508352300979\n",
            "Velocity data point: 0.13294400666385275\n",
            "Velocity data point: 0.45111754995350606\n",
            "Velocity data point: 0.48620906876448966\n",
            "Velocity data point: 0.23021804041569272\n",
            "Velocity data point: 0.5762090935191442\n",
            "Velocity data point: 0.08206311336478822\n",
            "Velocity data point: 0.4893145783127649\n",
            "Velocity data point: 0.5523984416355359\n"
          ]
        }
      ]
    },
    {
      "cell_type": "code",
      "source": [
        "# Structured data\n",
        "structured_data={'id' : 1,'name' : 'dharani','age' : 30}\n",
        "print(structured_data)\n",
        "# Semistructureddata\n",
        "semi_structured_data={'person' : {'name' : 'Alice','age' : 7,'city' : 'wonderland'}}\n",
        "print(semi_structured_data)\n",
        "# Unstructured_data\n",
        "unstructured_data=\"this is a sample text document.it can contain any\"\n",
        "print(unstructured_data)\n"
      ],
      "metadata": {
        "colab": {
          "base_uri": "https://localhost:8080/"
        },
        "id": "miqmxzbzNYkk",
        "outputId": "a25209b4-3b86-4900-ef00-11f7503c6af5"
      },
      "execution_count": null,
      "outputs": [
        {
          "output_type": "stream",
          "name": "stdout",
          "text": [
            "{'id': 1, 'name': 'dharani', 'age': 30}\n",
            "{'person': {'name': 'Alice', 'age': 7, 'city': 'wonderland'}}\n",
            "this is a sample text document.it can contain any\n"
          ]
        }
      ]
    },
    {
      "cell_type": "code",
      "source": [
        "import random\n",
        "#generate some random data with noise\n",
        "veracity_data=[random.choice([1,2,3,None])for _ in range(20)]\n",
        "print(\"veracity\",veracity_data)"
      ],
      "metadata": {
        "colab": {
          "base_uri": "https://localhost:8080/"
        },
        "id": "Y47kmXOAP84v",
        "outputId": "e1ae4ebe-e6d4-4987-e834-52d74f3c8244"
      },
      "execution_count": null,
      "outputs": [
        {
          "output_type": "stream",
          "name": "stdout",
          "text": [
            "veracity [3, 3, 2, None, None, None, 3, None, None, None, 3, 1, 2, None, 1, 2, 2, 3, 3, None]\n"
          ]
        }
      ]
    },
    {
      "cell_type": "code",
      "source": [],
      "metadata": {
        "id": "QWn4EbO1sF35"
      },
      "execution_count": null,
      "outputs": []
    }
  ]
}