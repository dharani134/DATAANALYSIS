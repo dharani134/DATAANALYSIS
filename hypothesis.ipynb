{
  "nbformat": 4,
  "nbformat_minor": 0,
  "metadata": {
    "colab": {
      "provenance": []
    },
    "kernelspec": {
      "name": "python3",
      "display_name": "Python 3"
    },
    "language_info": {
      "name": "python"
    }
  },
  "cells": [
    {
      "cell_type": "code",
      "execution_count": null,
      "metadata": {
        "id": "HIu5KOwv1U-B"
      },
      "outputs": [],
      "source": [
        "import numpy as np\n",
        "from scipy import stats"
      ]
    },
    {
      "cell_type": "code",
      "source": [
        "# Sample data (random numbers)\n",
        "np.random.seed(42)  # for reproducibility\n",
        "sample_data = np.random.normal(loc=10, scale=2, size=30)  # sample of 30 observations from a normal distribution with mean 10 and standard deviation 2\n"
      ],
      "metadata": {
        "id": "3p6g1oOd158B"
      },
      "execution_count": null,
      "outputs": []
    },
    {
      "cell_type": "code",
      "source": [
        "# Population parameters\n",
        "population_mean = 10  # hypothesized population mean"
      ],
      "metadata": {
        "id": "vx0gezLw1-aM"
      },
      "execution_count": null,
      "outputs": []
    },
    {
      "cell_type": "code",
      "source": [
        "# Perform one-sample t-test\n",
        "t_statistic, p_value = stats.ttest_1samp(sample_data, population_mean)"
      ],
      "metadata": {
        "id": "Z0BdizCc2Cy4"
      },
      "execution_count": null,
      "outputs": []
    },
    {
      "cell_type": "code",
      "source": [
        "# Interpret the results\n",
        "alpha = 0.05  # significance level\n",
        "print(\"t-statistic:\", t_statistic)\n",
        "print(\"p-value:\", p_value)"
      ],
      "metadata": {
        "colab": {
          "base_uri": "https://localhost:8080/"
        },
        "id": "Tyz3st1f2HqF",
        "outputId": "b0c2f659-d070-438f-cf58-6f30366bad96"
      },
      "execution_count": null,
      "outputs": [
        {
          "output_type": "stream",
          "name": "stdout",
          "text": [
            "t-statistic: -1.1450173670383255\n",
            "p-value: 0.2615641461880169\n"
          ]
        }
      ]
    },
    {
      "cell_type": "code",
      "source": [
        "if p_value < alpha:\n",
        "    print(\"Reject the null hypothesis. There is enough evidence to suggest that the sample mean differs significantly from the population mean.\")\n",
        "else:\n",
        "    print(\"Fail to reject the null hypothesis. There is not enough evidence to suggest that the sample mean differs significantly from the population mean.\")"
      ],
      "metadata": {
        "id": "ObQLMprJ2WXp",
        "outputId": "bb228ccb-9403-4efe-fb29-bd3bf9b78da3",
        "colab": {
          "base_uri": "https://localhost:8080/"
        }
      },
      "execution_count": null,
      "outputs": [
        {
          "output_type": "stream",
          "name": "stdout",
          "text": [
            "Fail to reject the null hypothesis. There is not enough evidence to suggest that the sample mean differs significantly from the population mean.\n"
          ]
        }
      ]
    }
  ]
}